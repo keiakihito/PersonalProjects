{
 "cells": [
  {
   "cell_type": "code",
   "id": "initial_id",
   "metadata": {
    "collapsed": true,
    "ExecuteTime": {
     "end_time": "2024-06-25T01:29:43.081393Z",
     "start_time": "2024-06-25T01:29:43.078170Z"
    }
   },
   "source": [
    "import numpy as np\n",
    "import matplotlib.pyplot as plt\n",
    "import sklearn.datasets as ds"
   ],
   "outputs": [],
   "execution_count": 30
  },
  {
   "metadata": {
    "ExecuteTime": {
     "end_time": "2024-06-25T01:29:43.089242Z",
     "start_time": "2024-06-25T01:29:43.084809Z"
    }
   },
   "cell_type": "code",
   "source": [
    "Iris = ds.load_iris()\n",
    "# Iris.data (features) is fed into the model to make predictions.\n",
    "# Assigning feature data to xdata\n",
    "xdata = Iris.data.astype(np.float32)\n",
    "# Iris.target (labels) is used to calculate the loss and accuracy during training and testing.\n",
    "# Assigning target labels to tdata\n",
    "tdata = Iris.target.astype(np.int32)"
   ],
   "id": "f3343793f452921a",
   "outputs": [],
   "execution_count": 31
  },
  {
   "metadata": {
    "ExecuteTime": {
     "end_time": "2024-06-25T01:29:43.096343Z",
     "start_time": "2024-06-25T01:29:43.090952Z"
    }
   },
   "cell_type": "code",
   "source": "print(xdata)",
   "id": "e4dc49a5f637fd20",
   "outputs": [
    {
     "name": "stdout",
     "output_type": "stream",
     "text": [
      "[[5.1 3.5 1.4 0.2]\n",
      " [4.9 3.  1.4 0.2]\n",
      " [4.7 3.2 1.3 0.2]\n",
      " [4.6 3.1 1.5 0.2]\n",
      " [5.  3.6 1.4 0.2]\n",
      " [5.4 3.9 1.7 0.4]\n",
      " [4.6 3.4 1.4 0.3]\n",
      " [5.  3.4 1.5 0.2]\n",
      " [4.4 2.9 1.4 0.2]\n",
      " [4.9 3.1 1.5 0.1]\n",
      " [5.4 3.7 1.5 0.2]\n",
      " [4.8 3.4 1.6 0.2]\n",
      " [4.8 3.  1.4 0.1]\n",
      " [4.3 3.  1.1 0.1]\n",
      " [5.8 4.  1.2 0.2]\n",
      " [5.7 4.4 1.5 0.4]\n",
      " [5.4 3.9 1.3 0.4]\n",
      " [5.1 3.5 1.4 0.3]\n",
      " [5.7 3.8 1.7 0.3]\n",
      " [5.1 3.8 1.5 0.3]\n",
      " [5.4 3.4 1.7 0.2]\n",
      " [5.1 3.7 1.5 0.4]\n",
      " [4.6 3.6 1.  0.2]\n",
      " [5.1 3.3 1.7 0.5]\n",
      " [4.8 3.4 1.9 0.2]\n",
      " [5.  3.  1.6 0.2]\n",
      " [5.  3.4 1.6 0.4]\n",
      " [5.2 3.5 1.5 0.2]\n",
      " [5.2 3.4 1.4 0.2]\n",
      " [4.7 3.2 1.6 0.2]\n",
      " [4.8 3.1 1.6 0.2]\n",
      " [5.4 3.4 1.5 0.4]\n",
      " [5.2 4.1 1.5 0.1]\n",
      " [5.5 4.2 1.4 0.2]\n",
      " [4.9 3.1 1.5 0.2]\n",
      " [5.  3.2 1.2 0.2]\n",
      " [5.5 3.5 1.3 0.2]\n",
      " [4.9 3.6 1.4 0.1]\n",
      " [4.4 3.  1.3 0.2]\n",
      " [5.1 3.4 1.5 0.2]\n",
      " [5.  3.5 1.3 0.3]\n",
      " [4.5 2.3 1.3 0.3]\n",
      " [4.4 3.2 1.3 0.2]\n",
      " [5.  3.5 1.6 0.6]\n",
      " [5.1 3.8 1.9 0.4]\n",
      " [4.8 3.  1.4 0.3]\n",
      " [5.1 3.8 1.6 0.2]\n",
      " [4.6 3.2 1.4 0.2]\n",
      " [5.3 3.7 1.5 0.2]\n",
      " [5.  3.3 1.4 0.2]\n",
      " [7.  3.2 4.7 1.4]\n",
      " [6.4 3.2 4.5 1.5]\n",
      " [6.9 3.1 4.9 1.5]\n",
      " [5.5 2.3 4.  1.3]\n",
      " [6.5 2.8 4.6 1.5]\n",
      " [5.7 2.8 4.5 1.3]\n",
      " [6.3 3.3 4.7 1.6]\n",
      " [4.9 2.4 3.3 1. ]\n",
      " [6.6 2.9 4.6 1.3]\n",
      " [5.2 2.7 3.9 1.4]\n",
      " [5.  2.  3.5 1. ]\n",
      " [5.9 3.  4.2 1.5]\n",
      " [6.  2.2 4.  1. ]\n",
      " [6.1 2.9 4.7 1.4]\n",
      " [5.6 2.9 3.6 1.3]\n",
      " [6.7 3.1 4.4 1.4]\n",
      " [5.6 3.  4.5 1.5]\n",
      " [5.8 2.7 4.1 1. ]\n",
      " [6.2 2.2 4.5 1.5]\n",
      " [5.6 2.5 3.9 1.1]\n",
      " [5.9 3.2 4.8 1.8]\n",
      " [6.1 2.8 4.  1.3]\n",
      " [6.3 2.5 4.9 1.5]\n",
      " [6.1 2.8 4.7 1.2]\n",
      " [6.4 2.9 4.3 1.3]\n",
      " [6.6 3.  4.4 1.4]\n",
      " [6.8 2.8 4.8 1.4]\n",
      " [6.7 3.  5.  1.7]\n",
      " [6.  2.9 4.5 1.5]\n",
      " [5.7 2.6 3.5 1. ]\n",
      " [5.5 2.4 3.8 1.1]\n",
      " [5.5 2.4 3.7 1. ]\n",
      " [5.8 2.7 3.9 1.2]\n",
      " [6.  2.7 5.1 1.6]\n",
      " [5.4 3.  4.5 1.5]\n",
      " [6.  3.4 4.5 1.6]\n",
      " [6.7 3.1 4.7 1.5]\n",
      " [6.3 2.3 4.4 1.3]\n",
      " [5.6 3.  4.1 1.3]\n",
      " [5.5 2.5 4.  1.3]\n",
      " [5.5 2.6 4.4 1.2]\n",
      " [6.1 3.  4.6 1.4]\n",
      " [5.8 2.6 4.  1.2]\n",
      " [5.  2.3 3.3 1. ]\n",
      " [5.6 2.7 4.2 1.3]\n",
      " [5.7 3.  4.2 1.2]\n",
      " [5.7 2.9 4.2 1.3]\n",
      " [6.2 2.9 4.3 1.3]\n",
      " [5.1 2.5 3.  1.1]\n",
      " [5.7 2.8 4.1 1.3]\n",
      " [6.3 3.3 6.  2.5]\n",
      " [5.8 2.7 5.1 1.9]\n",
      " [7.1 3.  5.9 2.1]\n",
      " [6.3 2.9 5.6 1.8]\n",
      " [6.5 3.  5.8 2.2]\n",
      " [7.6 3.  6.6 2.1]\n",
      " [4.9 2.5 4.5 1.7]\n",
      " [7.3 2.9 6.3 1.8]\n",
      " [6.7 2.5 5.8 1.8]\n",
      " [7.2 3.6 6.1 2.5]\n",
      " [6.5 3.2 5.1 2. ]\n",
      " [6.4 2.7 5.3 1.9]\n",
      " [6.8 3.  5.5 2.1]\n",
      " [5.7 2.5 5.  2. ]\n",
      " [5.8 2.8 5.1 2.4]\n",
      " [6.4 3.2 5.3 2.3]\n",
      " [6.5 3.  5.5 1.8]\n",
      " [7.7 3.8 6.7 2.2]\n",
      " [7.7 2.6 6.9 2.3]\n",
      " [6.  2.2 5.  1.5]\n",
      " [6.9 3.2 5.7 2.3]\n",
      " [5.6 2.8 4.9 2. ]\n",
      " [7.7 2.8 6.7 2. ]\n",
      " [6.3 2.7 4.9 1.8]\n",
      " [6.7 3.3 5.7 2.1]\n",
      " [7.2 3.2 6.  1.8]\n",
      " [6.2 2.8 4.8 1.8]\n",
      " [6.1 3.  4.9 1.8]\n",
      " [6.4 2.8 5.6 2.1]\n",
      " [7.2 3.  5.8 1.6]\n",
      " [7.4 2.8 6.1 1.9]\n",
      " [7.9 3.8 6.4 2. ]\n",
      " [6.4 2.8 5.6 2.2]\n",
      " [6.3 2.8 5.1 1.5]\n",
      " [6.1 2.6 5.6 1.4]\n",
      " [7.7 3.  6.1 2.3]\n",
      " [6.3 3.4 5.6 2.4]\n",
      " [6.4 3.1 5.5 1.8]\n",
      " [6.  3.  4.8 1.8]\n",
      " [6.9 3.1 5.4 2.1]\n",
      " [6.7 3.1 5.6 2.4]\n",
      " [6.9 3.1 5.1 2.3]\n",
      " [5.8 2.7 5.1 1.9]\n",
      " [6.8 3.2 5.9 2.3]\n",
      " [6.7 3.3 5.7 2.5]\n",
      " [6.7 3.  5.2 2.3]\n",
      " [6.3 2.5 5.  1.9]\n",
      " [6.5 3.  5.2 2. ]\n",
      " [6.2 3.4 5.4 2.3]\n",
      " [5.9 3.  5.1 1.8]]\n"
     ]
    }
   ],
   "execution_count": 32
  },
  {
   "metadata": {
    "ExecuteTime": {
     "end_time": "2024-06-25T01:29:43.100212Z",
     "start_time": "2024-06-25T01:29:43.097675Z"
    }
   },
   "cell_type": "code",
   "source": "print(tdata)",
   "id": "2407ad79e1a72c6a",
   "outputs": [
    {
     "name": "stdout",
     "output_type": "stream",
     "text": [
      "[0 0 0 0 0 0 0 0 0 0 0 0 0 0 0 0 0 0 0 0 0 0 0 0 0 0 0 0 0 0 0 0 0 0 0 0 0\n",
      " 0 0 0 0 0 0 0 0 0 0 0 0 0 1 1 1 1 1 1 1 1 1 1 1 1 1 1 1 1 1 1 1 1 1 1 1 1\n",
      " 1 1 1 1 1 1 1 1 1 1 1 1 1 1 1 1 1 1 1 1 1 1 1 1 1 1 2 2 2 2 2 2 2 2 2 2 2\n",
      " 2 2 2 2 2 2 2 2 2 2 2 2 2 2 2 2 2 2 2 2 2 2 2 2 2 2 2 2 2 2 2 2 2 2 2 2 2\n",
      " 2 2]\n"
     ]
    }
   ],
   "execution_count": 33
  },
  {
   "metadata": {
    "ExecuteTime": {
     "end_time": "2024-06-25T01:29:43.103847Z",
     "start_time": "2024-06-25T01:29:43.101727Z"
    }
   },
   "cell_type": "code",
   "source": [
    "# Determine the dimensions of the data\n",
    "D,N = xdata.shape\n",
    "Dtrain = D // 2"
   ],
   "id": "dacf73fe9ba19a2e",
   "outputs": [],
   "execution_count": 34
  },
  {
   "metadata": {
    "ExecuteTime": {
     "end_time": "2024-06-25T01:29:43.109223Z",
     "start_time": "2024-06-25T01:29:43.107815Z"
    }
   },
   "cell_type": "code",
   "source": "",
   "id": "755a72c93ddefe2b",
   "outputs": [],
   "execution_count": 34
  },
  {
   "metadata": {
    "ExecuteTime": {
     "end_time": "2024-06-25T01:29:43.113110Z",
     "start_time": "2024-06-25T01:29:43.110581Z"
    }
   },
   "cell_type": "code",
   "source": [
    "# Randomly shuffle the data\n",
    "index = np.random.permutation(range(D))\n",
    "xtrain = xdata[index[0:Dtrain], :]\n",
    "ttrain = tdata[index[0:Dtrain]]\n",
    "xtest = xdata[index[Dtrain:D], :]\n",
    "ttest = tdata[index[Dtrain:D]]"
   ],
   "id": "b120b3b939eb38e7",
   "outputs": [],
   "execution_count": 35
  },
  {
   "metadata": {
    "ExecuteTime": {
     "end_time": "2024-06-25T01:29:43.116333Z",
     "start_time": "2024-06-25T01:29:43.114304Z"
    }
   },
   "cell_type": "code",
   "source": [
    "import chainer.optimizers as Opt\n",
    "import chainer.functions as F\n",
    "import chainer.links as L\n",
    "from chainer import Variable, Chain, config"
   ],
   "id": "e93a7614fc1ebcfc",
   "outputs": [],
   "execution_count": 36
  },
  {
   "metadata": {
    "ExecuteTime": {
     "end_time": "2024-06-25T01:29:43.122883Z",
     "start_time": "2024-06-25T01:29:43.120547Z"
    }
   },
   "cell_type": "code",
   "source": [
    "# Define the neural network\n",
    "# Add offset 1, how many kinds of Iris\n",
    "C = np.max(tdata) + 1 # C == 8\n",
    "NN = Chain(l1 = L.Linear(N, 3), l2 = L.Linear(3, 3), l3 = L.Linear(3, C))"
   ],
   "id": "2fbd2abd2ef45ad9",
   "outputs": [],
   "execution_count": 37
  },
  {
   "metadata": {
    "ExecuteTime": {
     "end_time": "2024-06-25T01:29:43.126119Z",
     "start_time": "2024-06-25T01:29:43.123942Z"
    }
   },
   "cell_type": "code",
   "source": [
    "def model(x):\n",
    "    h = NN.l1(x)\n",
    "    h = F.sigmoid(h)\n",
    "    f = NN.l2(h)\n",
    "    h = F.sigmoid(h)\n",
    "    y = NN.l3(h)\n",
    "    return y"
   ],
   "id": "b32204e8852fe08e",
   "outputs": [],
   "execution_count": 38
  },
  {
   "metadata": {
    "ExecuteTime": {
     "end_time": "2024-06-25T01:29:43.129687Z",
     "start_time": "2024-06-25T01:29:43.127509Z"
    }
   },
   "cell_type": "code",
   "source": [
    "# Set up the optimizer\n",
    "optNN = Opt.SGD()\n",
    "optNN.setup(NN)\n",
    "\n",
    "#Store result\n",
    "train_loss = []\n",
    "train_acc = []\n",
    "test_loss = []\n",
    "test_acc = []"
   ],
   "id": "ac476585b00a39e1",
   "outputs": [],
   "execution_count": 39
  },
  {
   "metadata": {
    "ExecuteTime": {
     "end_time": "2024-06-25T01:29:43.825182Z",
     "start_time": "2024-06-25T01:29:43.130264Z"
    }
   },
   "cell_type": "code",
   "source": [
    "T = 1000\n",
    "for time in range(T):\n",
    "    config.train = True\n",
    "    optNN.target.zerograds()\n",
    "    ytrain = model(xtrain)\n",
    "    loss_train = F.softmax_cross_entropy(ytrain, ttrain)\n",
    "    acc_train = F.accuracy(ytrain, ttrain)\n",
    "    \n",
    "    # Backpropagation\n",
    "    loss_train.backward()\n",
    "    optNN.update()\n",
    "\n",
    "    # Store the training loss\n",
    "    # Evaluate accuracy on the training data\n",
    "    config.train = False\n",
    "    ytest = model(xtest)\n",
    "    loss_test = F.softmax_cross_entropy(ytest, ttest)\n",
    "     \n",
    "    # Evaluate accuracy on the training data\n",
    "    acc_test = F.accuracy(ytest, ttest)\n",
    "    train_loss.append(loss_train.data)\n",
    "    train_acc.append(acc_train.data)\n",
    "    test_loss.append(loss_test.data)\n",
    "    test_acc.append(acc_test.data)"
   ],
   "id": "d18492cbe7b596e2",
   "outputs": [],
   "execution_count": 40
  },
  {
   "metadata": {
    "ExecuteTime": {
     "end_time": "2024-06-25T01:29:43.932303Z",
     "start_time": "2024-06-25T01:29:43.826667Z"
    }
   },
   "cell_type": "code",
   "source": [
    "Tall = len(train_loss)\n",
    "plt.figure(figsize=(8,6))\n",
    "plt.plot(range(Tall), train_loss)\n",
    "plt.plot(range(Tall), test_loss)\n",
    "plt.title(\"loss function in training and test\")\n",
    "plt.xlabel(\"step\")\n",
    "plt.ylabel(\"loss function\")\n",
    "plt.xlim([0, Tall])\n",
    "plt.ylim([0, 4])\n",
    "plt.show()"
   ],
   "id": "64f2f6d98e5ff949",
   "outputs": [
    {
     "data": {
      "text/plain": [
       "<Figure size 800x600 with 1 Axes>"
      ],
      "image/png": "[encoded data removed]"
     },
     "metadata": {},
     "output_type": "display_data"
    }
   ],
   "execution_count": 41
  },
  {
   "metadata": {
    "ExecuteTime": {
     "end_time": "2024-06-25T01:29:43.995099Z",
     "start_time": "2024-06-25T01:29:43.933264Z"
    }
   },
   "cell_type": "code",
   "source": [
    "Tall = len(train_acc)\n",
    "plt.figure(figsize=(8,6))\n",
    "plt.plot(range(Tall), train_acc)\n",
    "plt.plot(range(Tall), test_acc)\n",
    "plt.title(\"accuracy in training and test\")\n",
    "plt.xlabel(\"step\")\n",
    "plt.ylabel(\"accuracy\")\n",
    "plt.xlim([0, Tall])\n",
    "plt.ylim([0.1, 0])\n",
    "plt.show()"
   ],
   "id": "b106e485b90266fb",
   "outputs": [
    {
     "data": {
      "text/plain": [
       "<Figure size 800x600 with 1 Axes>"
      ],
      "image/png": "[encoded data removed]"
     },
     "metadata": {},
     "output_type": "display_data"
    }
   ],
   "execution_count": 42
  },
  {
   "metadata": {
    "ExecuteTime": {
     "end_time": "2024-06-25T01:29:43.998874Z",
     "start_time": "2024-06-25T01:29:43.996460Z"
    }
   },
   "cell_type": "code",
   "source": "",
   "id": "f0bfeeddfcdb05b",
   "outputs": [],
   "execution_count": 42
  }
 ],
 "metadata": {
  "kernelspec": {
   "display_name": "Python 3",
   "language": "python",
   "name": "python3"
  },
  "language_info": {
   "codemirror_mode": {
    "name": "ipython",
    "version": 2
   },
   "file_extension": ".py",
   "mimetype": "text/x-python",
   "name": "python",
   "nbconvert_exporter": "python",
   "pygments_lexer": "ipython2",
   "version": "2.7.6"
  }
 },
 "nbformat": 4,
 "nbformat_minor": 5
}
