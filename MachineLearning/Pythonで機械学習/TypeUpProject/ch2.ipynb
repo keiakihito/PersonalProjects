{
 "cells": [
  {
   "cell_type": "code",
   "id": "initial_id",
   "metadata": {
    "collapsed": true,
    "ExecuteTime": {
     "end_time": "2024-06-20T01:20:25.439562Z",
     "start_time": "2024-06-20T01:20:25.436055Z"
    }
   },
   "source": [
    "import chainer.optimizers as Opt\n",
    "import chainer.functions as F\n",
    "import chainer.links as L\n",
    "from chainer import Variable,Chain, config"
   ],
   "outputs": [],
   "execution_count": 22
  },
  {
   "metadata": {
    "ExecuteTime": {
     "end_time": "2024-06-20T01:20:25.446840Z",
     "start_time": "2024-06-20T01:20:25.443575Z"
    }
   },
   "cell_type": "code",
   "source": [
    "import numpy as np\n",
    "import matplotlib.pyplot as plt\n",
    "D=100\n",
    "N=2\n",
    "xdata = np.random.random(D*N).reshape(D,N).astype(np.float32)"
   ],
   "id": "2c9730876c23fb63",
   "outputs": [],
   "execution_count": 23
  },
  {
   "metadata": {
    "ExecuteTime": {
     "end_time": "2024-06-20T01:20:25.450440Z",
     "start_time": "2024-06-20T01:20:25.448286Z"
    }
   },
   "cell_type": "code",
   "source": [
    "def f(x):\n",
    "    y = x * x\n",
    "    return y"
   ],
   "id": "f22c4e0213c09e4e",
   "outputs": [],
   "execution_count": 24
  },
  {
   "metadata": {
    "ExecuteTime": {
     "end_time": "2024-06-20T02:21:07.536317Z",
     "start_time": "2024-06-20T02:21:07.533229Z"
    }
   },
   "cell_type": "code",
   "source": "tdata = (xdata[:, 1] > f(xdata[:,0])).astype(np.int32)",
   "id": "8084e14e04361589",
   "outputs": [
    {
     "name": "stdout",
     "output_type": "stream",
     "text": [
      "[0 0 0 1 0 1 0 0 0 1 0 0 1 1 1 1 1 1 1 1 1 1 0 1 0 1 1 0 1 1 1 1 0 1 1 0 1\n",
      " 1 0 0 1 0 1 1 1 1 1 1 1 0 0 1 1 1 1 1 1 0 1 1 1 1 1 1 1 1 0 0 1 1 1 0 1 1\n",
      " 0 1 1 1 1 1 1 1 1 1 0 1 1 1 1 0 1 0 1 1 1 1 1 0 1 1]\n"
     ]
    }
   ],
   "execution_count": 42
  },
  {
   "metadata": {
    "ExecuteTime": {
     "end_time": "2024-06-20T01:20:25.457387Z",
     "start_time": "2024-06-20T01:20:25.455138Z"
    }
   },
   "cell_type": "code",
   "source": [
    "# Call neuronetwoek\n",
    "C = 2\n",
    "NN = Chain(l1 = L.Linear(N,C))"
   ],
   "id": "efdfeee1f2d15dd1",
   "outputs": [],
   "execution_count": 26
  },
  {
   "metadata": {
    "ExecuteTime": {
     "end_time": "2024-06-20T01:20:25.460013Z",
     "start_time": "2024-06-20T01:20:25.458248Z"
    }
   },
   "cell_type": "code",
   "source": [
    "def model(x):\n",
    "    y = NN.l1(x)\n",
    "    return y"
   ],
   "id": "7c9318860ac7ac76",
   "outputs": [],
   "execution_count": 27
  },
  {
   "metadata": {
    "ExecuteTime": {
     "end_time": "2024-06-20T01:20:25.464652Z",
     "start_time": "2024-06-20T01:20:25.461097Z"
    }
   },
   "cell_type": "code",
   "source": [
    "ydata = model(xdata)\n",
    "print(ydata)"
   ],
   "id": "3f9e3f68e54b492e",
   "outputs": [
    {
     "name": "stdout",
     "output_type": "stream",
     "text": [
      "variable([[-1.6086578   0.72529167]\n",
      "          [-1.9297626   1.008495  ]\n",
      "          [-1.0785553   0.34114534]\n",
      "          [-1.1056826   0.721126  ]\n",
      "          [-0.56116843  0.16336238]\n",
      "          [-0.905306    0.6373063 ]\n",
      "          [-0.8883508   0.34960487]\n",
      "          [-1.8094391   0.95095575]\n",
      "          [-1.4447563   0.4358289 ]\n",
      "          [-0.48194432  0.29471022]\n",
      "          [-1.0759575   0.30319828]\n",
      "          [-0.8785889   0.33786398]\n",
      "          [-1.3694545   0.9413978 ]\n",
      "          [-1.2151698   0.97249   ]\n",
      "          [-0.9141207   0.64680374]\n",
      "          [-1.8457417   1.0886574 ]\n",
      "          [-0.9137009   0.8392595 ]\n",
      "          [-0.362501    0.35426784]\n",
      "          [-0.9395421   0.93895143]\n",
      "          [-1.46587     0.96565306]\n",
      "          [-1.0126714   0.52979946]\n",
      "          [-1.1048446   0.8927825 ]\n",
      "          [-0.6998073   0.17021106]\n",
      "          [-0.6503708   0.3873392 ]\n",
      "          [-0.9476786   0.18884706]\n",
      "          [-0.50018114  0.52528024]\n",
      "          [-1.6928614   1.0031953 ]\n",
      "          [-0.8124207   0.2539432 ]\n",
      "          [-1.1888429   0.9815748 ]\n",
      "          [-0.6126223   0.27610797]\n",
      "          [-0.8840321   0.6915757 ]\n",
      "          [-1.3261169   0.8389397 ]\n",
      "          [-0.8181166   0.21967651]\n",
      "          [-1.5325348   0.77212757]\n",
      "          [-1.2779533   0.616647  ]\n",
      "          [-0.7309401   0.07645043]\n",
      "          [-1.4573841   0.80440193]\n",
      "          [-0.8549689   0.9690541 ]\n",
      "          [-0.9043729   0.26372057]\n",
      "          [-1.0207129   0.1635733 ]\n",
      "          [-1.2340585   0.73217237]\n",
      "          [-1.2620814   0.32312858]\n",
      "          [-0.88494307  0.77955204]\n",
      "          [-1.3202763   0.8505354 ]\n",
      "          [-0.09014941  0.03274034]\n",
      "          [-0.29242414  0.2725987 ]\n",
      "          [-0.34164715  0.37158373]\n",
      "          [-0.7124288   0.825373  ]\n",
      "          [-1.5427254   0.9470186 ]\n",
      "          [-1.0722339   0.4423489 ]\n",
      "          [-1.7909995   0.8736206 ]\n",
      "          [-0.87873024  0.57518226]\n",
      "          [-0.69420356  0.56179744]\n",
      "          [-0.9093585   0.8725079 ]\n",
      "          [-0.8148292   0.34655786]\n",
      "          [-0.7753711   0.7746059 ]\n",
      "          [-1.2293355   0.8129946 ]\n",
      "          [-1.0339221   0.3271816 ]\n",
      "          [-1.0120043   0.4944864 ]\n",
      "          [-1.4943442   1.0300893 ]\n",
      "          [-1.4091488   0.7929439 ]\n",
      "          [-0.9232412   0.62087196]\n",
      "          [-0.9383485   0.44417244]\n",
      "          [-1.0829458   0.6658222 ]\n",
      "          [-1.2149755   0.8968986 ]\n",
      "          [-1.8581152   1.0800872 ]\n",
      "          [-1.276357    0.3232438 ]\n",
      "          [-0.58914876  0.16690537]\n",
      "          [-1.2887517   0.8267593 ]\n",
      "          [-1.2917944   0.98238033]\n",
      "          [-1.2339698   0.88782877]\n",
      "          [-0.83496946  0.28065404]\n",
      "          [-0.8371074   0.4870461 ]\n",
      "          [-0.2627475   0.2088713 ]\n",
      "          [-1.3749019   0.37038544]\n",
      "          [-0.8233819   0.55668664]\n",
      "          [-1.6092656   0.89681226]\n",
      "          [-1.1368116   0.98002654]\n",
      "          [-0.76890516  0.84964746]\n",
      "          [-1.5738521   0.83040726]\n",
      "          [-1.2523793   0.78309816]\n",
      "          [-0.65977144  0.28750816]\n",
      "          [-0.32368365  0.38072097]\n",
      "          [-0.7954944   0.6511221 ]\n",
      "          [-0.91240317  0.3683725 ]\n",
      "          [-0.8016779   0.3456321 ]\n",
      "          [-0.9016059   0.9686928 ]\n",
      "          [-0.8785372   0.9296866 ]\n",
      "          [-1.5842527   0.90551907]\n",
      "          [-1.4541655   0.58777654]\n",
      "          [-0.94321775  0.978522  ]\n",
      "          [-0.19953437  0.02115133]\n",
      "          [-0.1713411   0.07899258]\n",
      "          [-0.4020362   0.32049516]\n",
      "          [-1.6819484   0.99387306]\n",
      "          [-0.5331669   0.5355598 ]\n",
      "          [-1.6960937   1.0429993 ]\n",
      "          [-1.7171432   0.8107286 ]\n",
      "          [-1.1751394   0.8278686 ]\n",
      "          [-0.5630937   0.3843437 ]])\n"
     ]
    }
   ],
   "execution_count": 28
  },
  {
   "metadata": {
    "ExecuteTime": {
     "end_time": "2024-06-20T01:20:25.468251Z",
     "start_time": "2024-06-20T01:20:25.466059Z"
    }
   },
   "cell_type": "code",
   "source": [
    "acc = F.accuracy(ydata, tdata)\n",
    "print(acc)"
   ],
   "id": "472c5bf0000874c6",
   "outputs": [
    {
     "name": "stdout",
     "output_type": "stream",
     "text": [
      "variable(0.72)\n"
     ]
    }
   ],
   "execution_count": 29
  },
  {
   "metadata": {
    "ExecuteTime": {
     "end_time": "2024-06-20T01:20:25.472935Z",
     "start_time": "2024-06-20T01:20:25.469501Z"
    }
   },
   "cell_type": "code",
   "source": [
    "optNN = Opt.SGD()\n",
    "optNN.setup(NN)"
   ],
   "id": "c69e2b0033bc1bc0",
   "outputs": [
    {
     "data": {
      "text/plain": [
       "<chainer.optimizers.sgd.SGD at 0x12700c160>"
      ]
     },
     "execution_count": 30,
     "metadata": {},
     "output_type": "execute_result"
    }
   ],
   "execution_count": 30
  },
  {
   "metadata": {
    "ExecuteTime": {
     "end_time": "2024-06-20T01:20:25.476353Z",
     "start_time": "2024-06-20T01:20:25.474564Z"
    }
   },
   "cell_type": "code",
   "source": [
    "# Save result\n",
    "loss_series = []\n",
    "acc_series = []"
   ],
   "id": "cc0ea33506a2d0e1",
   "outputs": [],
   "execution_count": 31
  },
  {
   "metadata": {
    "ExecuteTime": {
     "end_time": "2024-06-20T01:20:57.041387Z",
     "start_time": "2024-06-20T01:20:54.785297Z"
    }
   },
   "cell_type": "code",
   "source": [
    "T = 5000\n",
    "for time in range(T):\n",
    "    config.train = True\n",
    "    optNN.target.zerograds()\n",
    "    ydata = model(xdata)\n",
    "    loss = F.softmax_cross_entropy(ydata, tdata)\n",
    "    acc = F.accuracy(ydata, tdata)\n",
    "    loss.backward()\n",
    "    optNN.update()\n",
    "    # Stroe the result\n",
    "    loss_series.append(loss.data)\n",
    "    acc_series.append(acc.data)\n",
    "    "
   ],
   "id": "51178b2e005ca150",
   "outputs": [],
   "execution_count": 33
  },
  {
   "metadata": {
    "ExecuteTime": {
     "end_time": "2024-06-20T01:22:51.964133Z",
     "start_time": "2024-06-20T01:22:51.831923Z"
    }
   },
   "cell_type": "code",
   "source": [
    "Tall = len(loss_series)\n",
    "plt.figure(figsize=(8,6))\n",
    "plt.plot(range(Tall), loss_series)\n",
    "plt.title(\"loss function in training\")\n",
    "plt.xlabel(\"step\")\n",
    "plt.ylabel(\"loss function\")\n",
    "plt.xlim([0,Tall])\n",
    "plt.ylim([0,1])\n",
    "plt.show()"
   ],
   "id": "bcb71c746aee8d0f",
   "outputs": [
    {
     "data": {
      "text/plain": [
       "<Figure size 800x600 with 1 Axes>"
      ],
      "image/png": "[encoded data removed]"
     },
     "metadata": {},
     "output_type": "display_data"
    }
   ],
   "execution_count": 34
  },
  {
   "metadata": {
    "ExecuteTime": {
     "end_time": "2024-06-20T01:25:20.212106Z",
     "start_time": "2024-06-20T01:25:20.116930Z"
    }
   },
   "cell_type": "code",
   "source": [
    "Tall = len(acc_series)\n",
    "plt.figure(figsize=(8,6))\n",
    "plt.plot(range(Tall), acc_series)\n",
    "plt.title(\"loss function in training\")\n",
    "plt.xlabel(\"step\")\n",
    "plt.ylabel(\"loss function\")\n",
    "plt.xlim([0,Tall])\n",
    "plt.ylim([0,1])\n",
    "plt.show()"
   ],
   "id": "6aec13348a005c23",
   "outputs": [
    {
     "data": {
      "text/plain": [
       "<Figure size 800x600 with 1 Axes>"
      ],
      "image/png": "[encoded data removed]"
     },
     "metadata": {},
     "output_type": "display_data"
    }
   ],
   "execution_count": 35
  },
  {
   "metadata": {
    "ExecuteTime": {
     "end_time": "2024-06-20T01:27:12.922301Z",
     "start_time": "2024-06-20T01:27:12.919323Z"
    }
   },
   "cell_type": "code",
   "source": [
    "# 2 layers neuronetwork\n",
    "C = 2\n",
    "NN = Chain(l1 = L.Linear(N, 4), l2 = L.Linear(4,C))\n"
   ],
   "id": "22cc150cc0acd5a4",
   "outputs": [],
   "execution_count": 36
  },
  {
   "metadata": {
    "ExecuteTime": {
     "end_time": "2024-06-20T01:29:06.514006Z",
     "start_time": "2024-06-20T01:29:06.511158Z"
    }
   },
   "cell_type": "code",
   "source": [
    "def model (x):\n",
    "    h = NN.l1(x)\n",
    "    h = F.sigmoid(h)\n",
    "    y = NN.l2(h)\n",
    "    return y"
   ],
   "id": "c77ebae9d4f4d5fb",
   "outputs": [],
   "execution_count": 37
  },
  {
   "metadata": {
    "ExecuteTime": {
     "end_time": "2024-06-20T01:39:13.974474Z",
     "start_time": "2024-06-20T01:39:13.970990Z"
    }
   },
   "cell_type": "code",
   "source": [
    "optNN = Opt.SGD()\n",
    "optNN.setup(NN)\n",
    "loss_series = []\n",
    "acc_series = []"
   ],
   "id": "2be25bd2c945f05",
   "outputs": [],
   "execution_count": 38
  },
  {
   "metadata": {
    "ExecuteTime": {
     "end_time": "2024-06-20T01:41:22.917783Z",
     "start_time": "2024-06-20T01:41:07.659007Z"
    }
   },
   "cell_type": "code",
   "source": [
    "T = 20000\n",
    "for time in range(T):\n",
    "    config.train = True\n",
    "    optNN.target.zerograds()\n",
    "    ydata = model(xdata)\n",
    "    loss = F.softmax_cross_entropy(ydata, tdata)\n",
    "    acc = F.accuracy(ydata, tdata)\n",
    "    loss.backward()\n",
    "    optNN.update()\n",
    "    \n",
    "    loss_series.append(loss.data)\n",
    "    acc_series.append(acc.data)"
   ],
   "id": "e6a770e47e78e104",
   "outputs": [],
   "execution_count": 39
  },
  {
   "metadata": {
    "ExecuteTime": {
     "end_time": "2024-06-20T01:43:00.193383Z",
     "start_time": "2024-06-20T01:43:00.079317Z"
    }
   },
   "cell_type": "code",
   "source": [
    "# Show loss function result\n",
    "Tall = len(loss_series)\n",
    "plt.figure(figsize=(8,6))\n",
    "plt.plot(range(Tall), loss_series)\n",
    "plt.title(\"loss function in training\")\n",
    "plt.xlabel(\"step\")\n",
    "plt.ylabel(\"loss function\")\n",
    "plt.xlim([0, Tall])\n",
    "plt.ylim([0,4])\n",
    "plt.show()"
   ],
   "id": "4cb54f99e3fff32",
   "outputs": [
    {
     "data": {
      "text/plain": [
       "<Figure size 800x600 with 1 Axes>"
      ],
      "image/png": "[encoded data removed]"
     },
     "metadata": {},
     "output_type": "display_data"
    }
   ],
   "execution_count": 40
  },
  {
   "metadata": {
    "ExecuteTime": {
     "end_time": "2024-06-20T01:45:26.174505Z",
     "start_time": "2024-06-20T01:45:26.018787Z"
    }
   },
   "cell_type": "code",
   "source": [
    "# Show accuracy\n",
    "Tall = len(acc_series)\n",
    "plt.figure(figsize=(8,6))\n",
    "plt.plot(range(Tall), acc_series)\n",
    "plt.title(\"accuracy in training\")\n",
    "plt.xlabel(\"step\")\n",
    "plt.ylabel(\"accuracy\")\n",
    "plt.xlim([0, Tall])\n",
    "plt.ylim([0,4])\n",
    "plt.show()"
   ],
   "id": "ad6bf03c96576088",
   "outputs": [
    {
     "data": {
      "text/plain": [
       "<Figure size 800x600 with 1 Axes>"
      ],
      "image/png": "[encoded data removed]"
     },
     "metadata": {},
     "output_type": "display_data"
    }
   ],
   "execution_count": 41
  },
  {
   "metadata": {},
   "cell_type": "code",
   "outputs": [],
   "execution_count": null,
   "source": "",
   "id": "cccfd7cb863d58f7"
  }
 ],
 "metadata": {
  "kernelspec": {
   "display_name": "Python 3",
   "language": "python",
   "name": "python3"
  },
  "language_info": {
   "codemirror_mode": {
    "name": "ipython",
    "version": 2
   },
   "file_extension": ".py",
   "mimetype": "text/x-python",
   "name": "python",
   "nbconvert_exporter": "python",
   "pygments_lexer": "ipython2",
   "version": "2.7.6"
  }
 },
 "nbformat": 4,
 "nbformat_minor": 5
}
